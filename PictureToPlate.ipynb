{
 "cells": [
  {
   "cell_type": "code",
   "execution_count": 1,
   "id": "47bbdc20",
   "metadata": {},
   "outputs": [
    {
     "name": "stderr",
     "output_type": "stream",
     "text": [
      "WARNING:torchao.kernel.intmm:Warning: Detected no triton, on systems without Triton certain kernels will not work\n",
      "W0529 12:57:38.618000 8692 site-packages\\torch\\distributed\\elastic\\multiprocessing\\redirects.py:29] NOTE: Redirects are currently not supported in Windows or MacOs.\n"
     ]
    }
   ],
   "source": [
    "from transformers import Qwen2_5_VLForConditionalGeneration, AutoTokenizer, AutoProcessor, BitsAndBytesConfig\n",
    "import torch\n",
    "from qwen_vl_utils import process_vision_info\n",
    "import nltk\n",
    "from rouge_score import rouge_scorer"
   ]
  },
  {
   "cell_type": "code",
   "execution_count": 2,
   "id": "35f28593",
   "metadata": {},
   "outputs": [],
   "source": [
    "try:\n",
    "    nltk.data.find('tokenizers/punkt')\n",
    "except LookupError:\n",
    "    nltk.download('punkt')"
   ]
  },
  {
   "cell_type": "code",
   "execution_count": 3,
   "id": "4fbe5db3",
   "metadata": {},
   "outputs": [],
   "source": [
    "bnb_config = BitsAndBytesConfig(\n",
    "    load_in_4bit=True,  # Set False for 8-bit\n",
    "    bnb_4bit_compute_dtype=torch.float16\n",
    ")"
   ]
  },
  {
   "cell_type": "code",
   "execution_count": 4,
   "id": "37c5b29b",
   "metadata": {},
   "outputs": [
    {
     "data": {
      "application/vnd.jupyter.widget-view+json": {
       "model_id": "b354e98d124b4953aaf250219b7dab4f",
       "version_major": 2,
       "version_minor": 0
      },
      "text/plain": [
       "Loading checkpoint shards:   0%|          | 0/2 [00:00<?, ?it/s]"
      ]
     },
     "metadata": {},
     "output_type": "display_data"
    }
   ],
   "source": [
    "model = Qwen2_5_VLForConditionalGeneration.from_pretrained(\n",
    "    \"Qwen/Qwen2.5-VL-3B-Instruct\", torch_dtype=\"auto\", device_map=\"auto\", quantization_config=bnb_config,\n",
    ")"
   ]
  },
  {
   "cell_type": "code",
   "execution_count": 5,
   "id": "08d1c169",
   "metadata": {},
   "outputs": [
    {
     "name": "stderr",
     "output_type": "stream",
     "text": [
      "Using a slow image processor as `use_fast` is unset and a slow processor was saved with this model. `use_fast=True` will be the default behavior in v4.52, even if the model was saved with a slow processor. This will result in minor differences in outputs. You'll still be able to use a slow processor with `use_fast=False`.\n",
      "You have video processor config saved in `preprocessor.json` file which is deprecated. Video processor configs should be saved in their own `video_preprocessor.json` file. You can rename the file or load and save the processor back which renames it automatically. Loading from `preprocessor.json` will be removed in v5.0.\n"
     ]
    }
   ],
   "source": [
    "processor = AutoProcessor.from_pretrained(\"Qwen/Qwen2.5-VL-3B-Instruct\")"
   ]
  },
  {
   "cell_type": "code",
   "execution_count": 27,
   "id": "1b896bea",
   "metadata": {},
   "outputs": [],
   "source": [
    "filename = \"Ramen\"\n",
    "image_path = f\"./Test_Images/{filename}.jpeg\"\n",
    "dish = \"Soupy Noodles\""
   ]
  },
  {
   "cell_type": "code",
   "execution_count": 28,
   "id": "dbc255e1",
   "metadata": {},
   "outputs": [],
   "source": [
    "messages = [\n",
    "    {\n",
    "        \"role\": \"user\",\n",
    "        \"content\": [\n",
    "            {\n",
    "                \"type\": \"image\",\n",
    "                \"image\": image_path,\n",
    "            },\n",
    "            {\"type\": \"text\", \"text\": \"Describe this image.\"},\n",
    "        ],\n",
    "    }\n",
    "]"
   ]
  },
  {
   "cell_type": "code",
   "execution_count": 29,
   "id": "d7c14e7d",
   "metadata": {},
   "outputs": [],
   "source": [
    "text = processor.apply_chat_template(\n",
    "    messages, tokenize=False, add_generation_prompt=True\n",
    ")\n",
    "image_inputs, video_inputs = process_vision_info(messages)\n",
    "inputs = processor(\n",
    "    text=[text],\n",
    "    images=image_inputs,\n",
    "    videos=video_inputs,\n",
    "    padding=True,\n",
    "    return_tensors=\"pt\",\n",
    ")\n",
    "inputs = inputs.to(\"cuda\")"
   ]
  },
  {
   "cell_type": "code",
   "execution_count": 30,
   "id": "cf3beb95",
   "metadata": {},
   "outputs": [
    {
     "name": "stdout",
     "output_type": "stream",
     "text": [
      "The image depicts a bowl of ramen noodles served in a white ceramic bowl. The noodles appear to be thick and are garnished with various toppings, including green onions, seaweed, and what looks like pieces of meat or tofu. There are two hard-boiled eggs in the bowl, one of which is cracked open, revealing the runny yolk inside. Additionally, there are some slices of pickled radish and possibly some other vegetables mixed in.\n",
      "\n",
      "To the left of the bowl, there is a small bowl containing a dark sauce, likely soy sauce or a similar condiment. To the right of the bowl, there are two\n"
     ]
    }
   ],
   "source": [
    "generated_ids = model.generate(**inputs, max_new_tokens=128)\n",
    "generated_ids_trimmed = [\n",
    "    out_ids[len(in_ids) :] for in_ids, out_ids in zip(inputs.input_ids, generated_ids)\n",
    "]\n",
    "description_text = processor.batch_decode(\n",
    "    generated_ids_trimmed, skip_special_tokens=True, clean_up_tokenization_spaces=False\n",
    ")\n",
    "print(description_text[0])"
   ]
  },
  {
   "cell_type": "code",
   "execution_count": 44,
   "id": "c7d24c30",
   "metadata": {},
   "outputs": [],
   "source": [
    "recipe_generator = f\"\"\"You are a professional recipe generator.\n",
    "Dish: [Accurate dish name]\n",
    "Description of the food : {description_text}\n",
    "\n",
    "Format: The recipe should be in \"3-steps\" \n",
    "\n",
    "Examples: \n",
    "Dish: Mustard Fish\n",
    "Summary: 1. Clean and slice the fish. Soak mustard seeds for 2 hours, then grind with salt and green chillies to a paste. Mix in grated coconut, yoghurt, sugar, turmeric, and mustard oil to make a marinade.\n",
    "2. Coat the fish pieces with the mixture, place them in a tiffin box with halved green chillies on top, fasten the lid, and marinate for at least 15 minutes.\n",
    "3. Steam the sealed tiffin in a covered pan with hot water for 15 minutes. Let it rest for 5 minutes before serving.\n",
    "\n",
    "Dish: Butter Chicken\n",
    "Summary: 1. Marinate boneless chicken pieces in yogurt, lemon juice, ginger-garlic paste, chili powder, and garam masala for at least 1 hour. Then grill, bake, or pan-fry until cooked and slightly charred.\n",
    "2. In a pan, heat butter and sauté ginger, garlic, and tomatoes until soft. Blend this into a smooth puree, then return to the pan and add cream, kasuri methi (dried fenugreek), chili powder, and salt. Simmer until rich and creamy.\n",
    "3. Add the cooked chicken to the sauce, simmer for 10–15 minutes, adjust seasoning, and serve hot with naan or rice.\n",
    "\n",
    "Dish: Cheesy Bake\n",
    "Summary: 1. Boil or steam your choice of veggies (e.g., broccoli, cauliflower, carrots, corn) or cooked pasta/chicken. Lightly season with salt, pepper, and herbs.\n",
    "2. In a pan, melt butter, add flour, and cook for a minute. Slowly whisk in milk to make a smooth white sauce. Add grated cheese (like cheddar or mozzarella) and stir until melted and creamy.\n",
    "3. Mix the base with the cheese sauce, pour into a greased baking dish, top with more cheese, and bake at 180°C (350°F) for 20–25 minutes until golden and bubbly. Serve hot!\"\"\""
   ]
  },
  {
   "cell_type": "code",
   "execution_count": 45,
   "id": "c407bacf",
   "metadata": {},
   "outputs": [],
   "source": [
    "messages = [\n",
    "    {\n",
    "        \"role\": \"user\",\n",
    "        \"content\": [\n",
    "            {\n",
    "                \"type\": \"image\",\n",
    "                \"image\": image_path,\n",
    "            },\n",
    "            {\"type\": \"text\", \"text\": recipe_generator},\n",
    "        ],\n",
    "    }\n",
    "]"
   ]
  },
  {
   "cell_type": "code",
   "execution_count": 46,
   "id": "4674db3a",
   "metadata": {},
   "outputs": [],
   "source": [
    "text = processor.apply_chat_template(\n",
    "    messages, tokenize=False, add_generation_prompt=True\n",
    ")\n",
    "image_inputs, video_inputs = process_vision_info(messages)\n",
    "inputs = processor(\n",
    "    text=[text],\n",
    "    images=image_inputs,\n",
    "    videos=video_inputs,\n",
    "    padding=True,\n",
    "    return_tensors=\"pt\",\n",
    ").to(\"cuda\")"
   ]
  },
  {
   "cell_type": "code",
   "execution_count": 47,
   "id": "2264b009",
   "metadata": {},
   "outputs": [
    {
     "name": "stdout",
     "output_type": "stream",
     "text": [
      "Dish: Ramen Noodles\n",
      "Summary: 1. Cook the noodles according to package instructions. While the noodles are cooking, prepare the broth by combining chicken stock, soy sauce, sesame oil, and any desired seasonings such as garlic, ginger, and sesame seeds. Bring to a boil over medium-high heat and reduce to a simmer.\n",
      "2. Once the noodles are cooked, drain them and set aside. In a separate pot, cook the meatballs or tofu cubes in the same broth for a few minutes until they are heated through.\n",
      "3. To assemble the bowl, place the noodles in the center of a large bowl. Add the meatballs or tofu cubes, garnish with green onions, seaweed, and any additional toppings such as pickled radish or scallions. Place the hard-boiled eggs on top, cracked open if desired. Serve immediately with chopsticks for easy eating.\n"
     ]
    }
   ],
   "source": [
    "generated_ids = model.generate(\n",
    "    **inputs,\n",
    "    max_new_tokens=300,\n",
    "    ).to(\"cpu\")\n",
    "generated_ids_trimmed = [\n",
    "    out_ids[len(in_ids) :] for in_ids, out_ids in zip(inputs.input_ids, generated_ids)\n",
    "]\n",
    "recipe_text = processor.batch_decode(\n",
    "    generated_ids_trimmed, skip_special_tokens=True, clean_up_tokenization_spaces=False\n",
    ")\n",
    "generated_recipe = recipe_text[0]\n",
    "print(recipe_text[0])"
   ]
  },
  {
   "cell_type": "code",
   "execution_count": 48,
   "id": "53352799",
   "metadata": {},
   "outputs": [],
   "source": [
    "reference_summary_path = f\"./Test_Summaries/{filename}.txt\"\n",
    "with open(reference_summary_path, \"r\", encoding=\"utf-8\") as ref_file:\n",
    "    reference_summary = ref_file.read().strip()"
   ]
  },
  {
   "cell_type": "code",
   "execution_count": 49,
   "id": "dd4e3a70",
   "metadata": {},
   "outputs": [],
   "source": [
    "scorer = rouge_scorer.RougeScorer(\n",
    "    ['rouge1', 'rouge2', 'rougeL'], \n",
    "    use_stemmer=True\n",
    ")"
   ]
  },
  {
   "cell_type": "code",
   "execution_count": 50,
   "id": "2e416e3d",
   "metadata": {},
   "outputs": [],
   "source": [
    "scores = scorer.score(reference_summary, generated_recipe)"
   ]
  },
  {
   "cell_type": "code",
   "execution_count": 51,
   "id": "94d7480f",
   "metadata": {},
   "outputs": [
    {
     "name": "stdout",
     "output_type": "stream",
     "text": [
      "ROUGE Scores:\n",
      "ROUGE1:\n",
      "  Precision: 0.3071\n",
      "  Recall:    0.6324\n",
      "  F1:        0.4135\n",
      "\n",
      "ROUGE2:\n",
      "  Precision: 0.0791\n",
      "  Recall:    0.1642\n",
      "  F1:        0.1068\n",
      "\n",
      "ROUGEL:\n",
      "  Precision: 0.1714\n",
      "  Recall:    0.3529\n",
      "  F1:        0.2308\n",
      "\n"
     ]
    }
   ],
   "source": [
    "print(\"ROUGE Scores:\")\n",
    "for metric, score in scores.items():\n",
    "    print(f\"{metric.upper()}:\")\n",
    "    print(f\"  Precision: {score.precision:.4f}\")\n",
    "    print(f\"  Recall:    {score.recall:.4f}\")\n",
    "    print(f\"  F1:        {score.fmeasure:.4f}\")\n",
    "    print()"
   ]
  },
  {
   "cell_type": "code",
   "execution_count": null,
   "id": "a649c622",
   "metadata": {},
   "outputs": [],
   "source": []
  }
 ],
 "metadata": {
  "kernelspec": {
   "display_name": "base",
   "language": "python",
   "name": "python3"
  },
  "language_info": {
   "codemirror_mode": {
    "name": "ipython",
    "version": 3
   },
   "file_extension": ".py",
   "mimetype": "text/x-python",
   "name": "python",
   "nbconvert_exporter": "python",
   "pygments_lexer": "ipython3",
   "version": "3.12.7"
  }
 },
 "nbformat": 4,
 "nbformat_minor": 5
}
