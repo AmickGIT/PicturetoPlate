{
 "cells": [
  {
   "cell_type": "markdown",
   "id": "f5048951",
   "metadata": {},
   "source": [
    "# Picture to Plate"
   ]
  },
  {
   "cell_type": "code",
   "execution_count": null,
   "id": "47bbdc20",
   "metadata": {},
   "outputs": [],
   "source": [
    "from transformers import Qwen2_5_VLForConditionalGeneration, AutoProcessor, BitsAndBytesConfig\n",
    "import torch\n",
    "from qwen_vl_utils import process_vision_info\n",
    "import nltk\n",
    "from rouge_score import rouge_scorer"
   ]
  },
  {
   "cell_type": "code",
   "execution_count": 152,
   "id": "4fbe5db3",
   "metadata": {},
   "outputs": [],
   "source": [
    "bnb_config = BitsAndBytesConfig(\n",
    "    load_in_4bit=True,  # Set False for 8-bit\n",
    "    bnb_4bit_compute_dtype=torch.float16\n",
    ")"
   ]
  },
  {
   "cell_type": "code",
   "execution_count": 153,
   "id": "37c5b29b",
   "metadata": {},
   "outputs": [
    {
     "data": {
      "application/vnd.jupyter.widget-view+json": {
       "model_id": "f4cb73e3eaea4137b4a74700c5c0f43f",
       "version_major": 2,
       "version_minor": 0
      },
      "text/plain": [
       "Loading checkpoint shards:   0%|          | 0/2 [00:00<?, ?it/s]"
      ]
     },
     "metadata": {},
     "output_type": "display_data"
    }
   ],
   "source": [
    "model = Qwen2_5_VLForConditionalGeneration.from_pretrained(\n",
    "    \"Qwen/Qwen2.5-VL-3B-Instruct\", torch_dtype=\"auto\", device_map=\"auto\", quantization_config=bnb_config,\n",
    ")"
   ]
  },
  {
   "cell_type": "code",
   "execution_count": 188,
   "id": "08d1c169",
   "metadata": {},
   "outputs": [],
   "source": [
    "processor = AutoProcessor.from_pretrained(\"Qwen/Qwen2.5-VL-3B-Instruct\")"
   ]
  },
  {
   "cell_type": "markdown",
   "id": "23c607cc",
   "metadata": {},
   "source": [
    "#### **Setup**"
   ]
  },
  {
   "cell_type": "markdown",
   "id": "d56b8f47",
   "metadata": {},
   "source": [
    "In \"filename\" enter the filename from \"Test_Images\" folder. In \"dish\" enter the title of the dish (noisy title)"
   ]
  },
  {
   "cell_type": "code",
   "execution_count": 252,
   "id": "1b896bea",
   "metadata": {},
   "outputs": [],
   "source": [
    "filename = \"PalakPaneer\"\n",
    "image_path = f\"./Test_Images/{filename}.jpeg\"\n",
    "dish = \"Paneer\""
   ]
  },
  {
   "cell_type": "markdown",
   "id": "d07a9451",
   "metadata": {},
   "source": [
    "## Description Generation"
   ]
  },
  {
   "cell_type": "code",
   "execution_count": 253,
   "id": "8636a3cc",
   "metadata": {},
   "outputs": [],
   "source": [
    "description_prompt = f\"\"\"Describe the food image with ingredients, texture etc present.\n",
    "Try to predict what's the actual name of the dish. \n",
    "Dish: {dish}\"\"\""
   ]
  },
  {
   "cell_type": "code",
   "execution_count": 254,
   "id": "dbc255e1",
   "metadata": {},
   "outputs": [],
   "source": [
    "messages = [\n",
    "    {\n",
    "        \"role\": \"user\",\n",
    "        \"content\": [\n",
    "            {\n",
    "                \"type\": \"image\",\n",
    "                \"image\": image_path,\n",
    "            },\n",
    "            {\"type\": \"text\", \"text\": description_prompt},\n",
    "        ],\n",
    "    }\n",
    "]"
   ]
  },
  {
   "cell_type": "code",
   "execution_count": 255,
   "id": "d7c14e7d",
   "metadata": {},
   "outputs": [],
   "source": [
    "text = processor.apply_chat_template(\n",
    "    messages, tokenize=False, add_generation_prompt=True\n",
    ")\n",
    "image_inputs, video_inputs = process_vision_info(messages)\n",
    "inputs = processor(\n",
    "    text=[text],\n",
    "    images=image_inputs,\n",
    "    videos=video_inputs,\n",
    "    padding=True,\n",
    "    return_tensors=\"pt\",\n",
    ")\n",
    "inputs = inputs.to(\"cuda\")"
   ]
  },
  {
   "cell_type": "code",
   "execution_count": 256,
   "id": "cf3beb95",
   "metadata": {},
   "outputs": [
    {
     "name": "stdout",
     "output_type": "stream",
     "text": [
      "The dish in the image is Paneer Palak, also known as Paneer Saag or Palak Paneer. It is a popular Indian vegetarian dish that combines fresh spinach (palak) with paneer (Indian cottage cheese). The dish is typically prepared by sautéing the spinach with spices and then adding the paneer, which is often cut into cubes or slices. The spinach gives the dish a vibrant green color, while the paneer adds a creamy texture. The dish is usually seasoned with a blend of spices such as coriander, cumin, and garam masala, and sometimes garnished with red chili\n"
     ]
    }
   ],
   "source": [
    "generated_ids = model.generate(**inputs, max_new_tokens=128)\n",
    "generated_ids_trimmed = [\n",
    "    out_ids[len(in_ids) :] for in_ids, out_ids in zip(inputs.input_ids, generated_ids)\n",
    "]\n",
    "description_text = processor.batch_decode(\n",
    "    generated_ids_trimmed, skip_special_tokens=True, clean_up_tokenization_spaces=False\n",
    ")\n",
    "description_text = description_text[0]\n",
    "print(description_text)"
   ]
  },
  {
   "cell_type": "markdown",
   "id": "82749ad2",
   "metadata": {},
   "source": [
    "## Recipe Generation"
   ]
  },
  {
   "cell_type": "markdown",
   "id": "9621631f",
   "metadata": {},
   "source": [
    "**Prompt Structure**"
   ]
  },
  {
   "cell_type": "code",
   "execution_count": 265,
   "id": "c7d24c30",
   "metadata": {},
   "outputs": [],
   "source": [
    "recipe_generator = f\"\"\"You are a professional recipe generator. Based on the \"description\" of the food generate a recipe.\n",
    "Description of the food : {description_text}\n",
    "\n",
    "Format: The recipe should be in \"3-steps\". \n",
    "Dish: [Dish Name]\n",
    "Summary: \n",
    "1. <Step 1>\n",
    "2. <Step 2>\n",
    "3. <Step 3>\n",
    "\n",
    "Examples 1: \n",
    "Dish: Mustard Fish\n",
    "Summary: 1. Clean and slice the fish. Soak mustard seeds for 2 hours, then grind with salt and green chillies to a paste. Mix in grated coconut, yoghurt, sugar, turmeric, and mustard oil to make a marinade.\n",
    "2. Coat the fish pieces with the mixture, place them in a tiffin box with halved green chillies on top, fasten the lid, and marinate for at least 15 minutes.\n",
    "3. Steam the sealed tiffin in a covered pan with hot water for 15 minutes. Let it rest for 5 minutes before serving.\n",
    "\n",
    "Example 2:\n",
    "Dish: Butter Chicken\n",
    "Summary: 1. Marinate boneless chicken pieces in yogurt, lemon juice, ginger-garlic paste, chili powder, and garam masala for at least 1 hour. Then grill, bake, or pan-fry until cooked and slightly charred.\n",
    "2. In a pan, heat butter and sauté ginger, garlic, and tomatoes until soft. Blend this into a smooth puree, then return to the pan and add cream, kasuri methi (dried fenugreek), chili powder, and salt. Simmer until rich and creamy.\n",
    "3. Add the cooked chicken to the sauce, simmer for 10–15 minutes, adjust seasoning, and serve hot with naan or rice.\n",
    "\n",
    "Example 3:\n",
    "Dish: Cheesy Bake\n",
    "Summary: 1. Boil or steam your choice of veggies (e.g., broccoli, cauliflower, carrots, corn) or cooked pasta/chicken. Lightly season with salt, pepper, and herbs.\n",
    "2. In a pan, melt butter, add flour, and cook for a minute. Slowly whisk in milk to make a smooth white sauce. Add grated cheese (like cheddar or mozzarella) and stir until melted and creamy.\n",
    "3. Mix the base with the cheese sauce, pour into a greased baking dish, top with more cheese, and bake at 180°C (350°F) for 20–25 minutes until golden and bubbly. Serve hot!\n",
    "\n",
    "\n",
    "Now generate the recipe.\"\"\""
   ]
  },
  {
   "cell_type": "code",
   "execution_count": 266,
   "id": "c407bacf",
   "metadata": {},
   "outputs": [],
   "source": [
    "messages = [\n",
    "    {\n",
    "        \"role\": \"user\",\n",
    "        \"content\": [\n",
    "            {\n",
    "                \"type\": \"image\",\n",
    "                \"image\": image_path,\n",
    "            },\n",
    "            {\"type\": \"text\", \"text\": recipe_generator},\n",
    "        ],\n",
    "    }\n",
    "]"
   ]
  },
  {
   "cell_type": "code",
   "execution_count": 267,
   "id": "4674db3a",
   "metadata": {},
   "outputs": [],
   "source": [
    "text = processor.apply_chat_template(\n",
    "    messages, tokenize=False, add_generation_prompt=True\n",
    ")\n",
    "image_inputs, video_inputs = process_vision_info(messages)\n",
    "inputs = processor(\n",
    "    text=[text],\n",
    "    images=image_inputs,\n",
    "    videos=video_inputs,\n",
    "    padding=True,\n",
    "    return_tensors=\"pt\",\n",
    ").to(\"cuda\")"
   ]
  },
  {
   "cell_type": "code",
   "execution_count": 268,
   "id": "2264b009",
   "metadata": {},
   "outputs": [
    {
     "name": "stdout",
     "output_type": "stream",
     "text": [
      "Dish:[Paneer Paluk]\n",
      "Summary:\n",
      "1. Wash and chop fresh spinach leaves. Cut paneer into small cubes or cubes.\n",
      "2.Sauté spinach with some oil in a pan. Add spices like coriand, cinnamom, and piper. Cook for a few minutes.\n",
      "4.Add the paneeri and mix well. Cook until the paneers are cooked. Garnish with red chillies.\n"
     ]
    }
   ],
   "source": [
    "generated_ids = model.generate(\n",
    "    **inputs,\n",
    "    max_new_tokens=150,\n",
    "    temperature = 0.3,\n",
    "    # top_p=0.9,\n",
    "    # top_k = 50,\n",
    "    no_repeat_ngram_size=3,\n",
    "    ).to(\"cpu\")\n",
    "generated_ids_trimmed = [\n",
    "    out_ids[len(in_ids) :] for in_ids, out_ids in zip(inputs.input_ids, generated_ids)\n",
    "]\n",
    "recipe_text = processor.batch_decode(\n",
    "    generated_ids_trimmed, skip_special_tokens=True, clean_up_tokenization_spaces=False\n",
    ")\n",
    "generated_recipe = recipe_text[0]\n",
    "print(recipe_text[0])"
   ]
  },
  {
   "cell_type": "markdown",
   "id": "fe3c7fdd",
   "metadata": {},
   "source": [
    "## ROUGE Score"
   ]
  },
  {
   "cell_type": "code",
   "execution_count": 269,
   "id": "53352799",
   "metadata": {},
   "outputs": [],
   "source": [
    "reference_summary_path = f\"./Test_Summaries/{filename}.txt\"\n",
    "with open(reference_summary_path, \"r\", encoding=\"utf-8\") as ref_file:\n",
    "    reference_summary = ref_file.read().strip()"
   ]
  },
  {
   "cell_type": "code",
   "execution_count": 270,
   "id": "69fdb56b",
   "metadata": {},
   "outputs": [],
   "source": [
    "scorer = rouge_scorer.RougeScorer(\n",
    "    ['rouge1', 'rouge2', 'rougeL'], \n",
    "    use_stemmer=True\n",
    ")"
   ]
  },
  {
   "cell_type": "code",
   "execution_count": 271,
   "id": "f119791b",
   "metadata": {},
   "outputs": [],
   "source": [
    "scores = scorer.score(reference_summary, generated_recipe)"
   ]
  },
  {
   "cell_type": "code",
   "execution_count": 272,
   "id": "4c39e6b3",
   "metadata": {},
   "outputs": [
    {
     "name": "stdout",
     "output_type": "stream",
     "text": [
      "ROUGE Scores:\n",
      "ROUGE1:\n",
      "  Precision: 0.3750\n",
      "  Recall:    0.3231\n",
      "  F1:        0.3471\n",
      "\n",
      "ROUGE2:\n",
      "  Precision: 0.0545\n",
      "  Recall:    0.0469\n",
      "  F1:        0.0504\n",
      "\n",
      "ROUGEL:\n",
      "  Precision: 0.2321\n",
      "  Recall:    0.2000\n",
      "  F1:        0.2149\n",
      "\n"
     ]
    }
   ],
   "source": [
    "print(\"ROUGE Scores:\")\n",
    "for metric, score in scores.items():\n",
    "    print(f\"{metric.upper()}:\")\n",
    "    print(f\"  Precision: {score.precision:.4f}\")\n",
    "    print(f\"  Recall:    {score.recall:.4f}\")\n",
    "    print(f\"  F1:        {score.fmeasure:.4f}\")\n",
    "    print()"
   ]
  }
 ],
 "metadata": {
  "kernelspec": {
   "display_name": "base",
   "language": "python",
   "name": "python3"
  },
  "language_info": {
   "codemirror_mode": {
    "name": "ipython",
    "version": 3
   },
   "file_extension": ".py",
   "mimetype": "text/x-python",
   "name": "python",
   "nbconvert_exporter": "python",
   "pygments_lexer": "ipython3",
   "version": "3.12.7"
  }
 },
 "nbformat": 4,
 "nbformat_minor": 5
}
