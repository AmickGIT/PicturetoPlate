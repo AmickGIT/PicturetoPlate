{
 "cells": [
  {
   "cell_type": "code",
   "execution_count": 2,
   "id": "47bbdc20",
   "metadata": {},
   "outputs": [],
   "source": [
    "from transformers import Qwen2_5_VLForConditionalGeneration, AutoTokenizer, AutoProcessor, BitsAndBytesConfig\n",
    "import torch\n",
    "from qwen_vl_utils import process_vision_info\n",
    "import nltk\n",
    "\n",
    "from rouge_score import rouge_scorer"
   ]
  },
  {
   "cell_type": "code",
   "execution_count": 3,
   "id": "4fbe5db3",
   "metadata": {},
   "outputs": [],
   "source": [
    "bnb_config = BitsAndBytesConfig(\n",
    "    load_in_4bit=True,  # Set False for 8-bit\n",
    "    bnb_4bit_compute_dtype=torch.float16\n",
    ")"
   ]
  },
  {
   "cell_type": "code",
   "execution_count": 4,
   "id": "37c5b29b",
   "metadata": {},
   "outputs": [
    {
     "data": {
      "application/vnd.jupyter.widget-view+json": {
       "model_id": "dae9ede1c29b413f8adb947993f7a65b",
       "version_major": 2,
       "version_minor": 0
      },
      "text/plain": [
       "Loading checkpoint shards:   0%|          | 0/2 [00:00<?, ?it/s]"
      ]
     },
     "metadata": {},
     "output_type": "display_data"
    }
   ],
   "source": [
    "model = Qwen2_5_VLForConditionalGeneration.from_pretrained(\n",
    "    \"Qwen/Qwen2.5-VL-3B-Instruct\", torch_dtype=\"auto\", device_map=\"auto\", quantization_config=bnb_config,\n",
    ")"
   ]
  },
  {
   "cell_type": "code",
   "execution_count": 5,
   "id": "08d1c169",
   "metadata": {},
   "outputs": [
    {
     "name": "stderr",
     "output_type": "stream",
     "text": [
      "Using a slow image processor as `use_fast` is unset and a slow processor was saved with this model. `use_fast=True` will be the default behavior in v4.52, even if the model was saved with a slow processor. This will result in minor differences in outputs. You'll still be able to use a slow processor with `use_fast=False`.\n",
      "You have video processor config saved in `preprocessor.json` file which is deprecated. Video processor configs should be saved in their own `video_preprocessor.json` file. You can rename the file or load and save the processor back which renames it automatically. Loading from `preprocessor.json` will be removed in v5.0.\n"
     ]
    }
   ],
   "source": [
    "processor = AutoProcessor.from_pretrained(\"Qwen/Qwen2.5-VL-3B-Instruct\")"
   ]
  },
  {
   "cell_type": "code",
   "execution_count": 18,
   "id": "1b896bea",
   "metadata": {},
   "outputs": [],
   "source": [
    "filename = \"Ramen\"\n",
    "image_path = f\"./Test_Images/{filename}.jpeg\"\n",
    "dish = \"Noodles\""
   ]
  },
  {
   "cell_type": "code",
   "execution_count": 30,
   "id": "dbc255e1",
   "metadata": {},
   "outputs": [],
   "source": [
    "messages = [\n",
    "    {\n",
    "        \"role\": \"user\",\n",
    "        \"content\": [\n",
    "            {\n",
    "                \"type\": \"image\",\n",
    "                \"image\": image_path,\n",
    "            },\n",
    "            {\"type\": \"text\", \"text\": f\"Describe the food image with ingredients, texture etc present. Dish: {dish}\"},\n",
    "        ],\n",
    "    }\n",
    "]"
   ]
  },
  {
   "cell_type": "code",
   "execution_count": 31,
   "id": "d7c14e7d",
   "metadata": {},
   "outputs": [],
   "source": [
    "text = processor.apply_chat_template(\n",
    "    messages, tokenize=False, add_generation_prompt=True\n",
    ")\n",
    "image_inputs, video_inputs = process_vision_info(messages)\n",
    "inputs = processor(\n",
    "    text=[text],\n",
    "    images=image_inputs,\n",
    "    videos=video_inputs,\n",
    "    padding=True,\n",
    "    return_tensors=\"pt\",\n",
    ")\n",
    "inputs = inputs.to(\"cuda\")"
   ]
  },
  {
   "cell_type": "code",
   "execution_count": 32,
   "id": "cf3beb95",
   "metadata": {},
   "outputs": [
    {
     "name": "stdout",
     "output_type": "stream",
     "text": [
      "The image shows a bowl of noodles with various ingredients and garnishes. The main ingredients include:\n",
      "\n",
      "1. Ramen noodles\n",
      "2. Meatballs (likely beef or pork)\n",
      "3. Egg slices (boiled and cut in half)\n",
      "4. Seaweed strips\n",
      "5. Green onions or scallions\n",
      "6. A poached egg on top\n",
      "\n",
      "The dish appears to be a ramen noodle soup, possibly with a soy-based broth. The meatballs add a meaty texture, while the egg slices provide a soft, creamy texture. The seaweed adds a chewy texture, and the green onions add a fresh,\n"
     ]
    }
   ],
   "source": [
    "generated_ids = model.generate(**inputs, max_new_tokens=128)\n",
    "generated_ids_trimmed = [\n",
    "    out_ids[len(in_ids) :] for in_ids, out_ids in zip(inputs.input_ids, generated_ids)\n",
    "]\n",
    "description_text = processor.batch_decode(\n",
    "    generated_ids_trimmed, skip_special_tokens=True, clean_up_tokenization_spaces=False\n",
    ")\n",
    "description_text = description_text[0]\n",
    "print(description_text)"
   ]
  },
  {
   "cell_type": "code",
   "execution_count": 41,
   "id": "c7d24c30",
   "metadata": {},
   "outputs": [],
   "source": [
    "recipe_generator = f\"\"\"You are a professional recipe generator.\n",
    "Dish: {dish}\n",
    "Description of the food : {description_text}\n",
    "\n",
    "Format: The recipe should be in \"3-steps\" in new lines.\n",
    "1. [steps]\n",
    "2. [steps]\n",
    "3. [steps]\n",
    "\n",
    "Examples: \n",
    "Dish: Mustard Fish\n",
    "Summary: 1. Clean and slice the fish. Soak mustard seeds for 2 hours, then grind with salt and green chillies to a paste. Mix in grated coconut, yoghurt, sugar, turmeric, and mustard oil to make a marinade.\n",
    "2. Coat the fish pieces with the mixture, place them in a tiffin box with halved green chillies on top, fasten the lid, and marinate for at least 15 minutes.\n",
    "3. Steam the sealed tiffin in a covered pan with hot water for 15 minutes. Let it rest for 5 minutes before serving.\n",
    "\n",
    "Dish: Butter Chicken\n",
    "Summary: 1. Marinate boneless chicken pieces in yogurt, lemon juice, ginger-garlic paste, chili powder, and garam masala for at least 1 hour. Then grill, bake, or pan-fry until cooked and slightly charred.\n",
    "2. In a pan, heat butter and sauté ginger, garlic, and tomatoes until soft. Blend this into a smooth puree, then return to the pan and add cream, kasuri methi (dried fenugreek), chili powder, and salt. Simmer until rich and creamy.\n",
    "3. Add the cooked chicken to the sauce, simmer for 10–15 minutes, adjust seasoning, and serve hot with naan or rice.\n",
    "\n",
    "Dish: Cheesy Bake\n",
    "Summary: 1. Boil or steam your choice of veggies (e.g., broccoli, cauliflower, carrots, corn) or cooked pasta/chicken. Lightly season with salt, pepper, and herbs.\n",
    "2. In a pan, melt butter, add flour, and cook for a minute. Slowly whisk in milk to make a smooth white sauce. Add grated cheese (like cheddar or mozzarella) and stir until melted and creamy.\n",
    "3. Mix the base with the cheese sauce, pour into a greased baking dish, top with more cheese, and bake at 180°C (350°F) for 20–25 minutes until golden and bubbly. Serve hot!\"\"\""
   ]
  },
  {
   "cell_type": "code",
   "execution_count": 42,
   "id": "c407bacf",
   "metadata": {},
   "outputs": [],
   "source": [
    "messages = [\n",
    "    {\n",
    "        \"role\": \"user\",\n",
    "        \"content\": [\n",
    "            {\n",
    "                \"type\": \"image\",\n",
    "                \"image\": image_path,\n",
    "            },\n",
    "            {\"type\": \"text\", \"text\": recipe_generator},\n",
    "        ],\n",
    "    }\n",
    "]"
   ]
  },
  {
   "cell_type": "code",
   "execution_count": 43,
   "id": "4674db3a",
   "metadata": {},
   "outputs": [],
   "source": [
    "text = processor.apply_chat_template(\n",
    "    messages, tokenize=False, add_generation_prompt=True\n",
    ")\n",
    "image_inputs, video_inputs = process_vision_info(messages)\n",
    "inputs = processor(\n",
    "    text=[text],\n",
    "    images=image_inputs,\n",
    "    videos=video_inputs,\n",
    "    padding=True,\n",
    "    return_tensors=\"pt\",\n",
    ").to(\"cuda\")"
   ]
  },
  {
   "cell_type": "code",
   "execution_count": 44,
   "id": "2264b009",
   "metadata": {},
   "outputs": [
    {
     "name": "stdout",
     "output_type": "stream",
     "text": [
      "Dish: Ramen Noodles\n",
      "Summary:\n",
      "1. Cook the noodles according to package instructions. While they're cooking, prepare the broth by combining soy sauce, mirin, and sesame oil in a pot over medium heat. Bring to a boil, then reduce heat to low and let simmer for 10-15 minutes.\n",
      "2. In a separate pot, cook the meatballs in the broth until they're no longer pink. Drain excess liquid from the meatballs.\n",
      "3. In a large bowl, combine the noodles, meatballs, and any remaining broth. Top with the boiled eggs, seaweed, green onions, and any additional toppings you like. Serve immediately.\n"
     ]
    }
   ],
   "source": [
    "generated_ids = model.generate(\n",
    "    **inputs,\n",
    "    max_new_tokens=300,\n",
    "    ).to(\"cpu\")\n",
    "generated_ids_trimmed = [\n",
    "    out_ids[len(in_ids) :] for in_ids, out_ids in zip(inputs.input_ids, generated_ids)\n",
    "]\n",
    "recipe_text = processor.batch_decode(\n",
    "    generated_ids_trimmed, skip_special_tokens=True, clean_up_tokenization_spaces=False\n",
    ")\n",
    "print(recipe_text[0])\n",
    "generated_recipe = recipe_text[0]"
   ]
  },
  {
   "cell_type": "code",
   "execution_count": 45,
   "id": "53352799",
   "metadata": {},
   "outputs": [],
   "source": [
    "reference_summary_path = f\"./Test_Summaries/{filename}.txt\"  # TODO: Insert the path to your Test_Summaries file\n",
    "with open(reference_summary_path, \"r\", encoding=\"utf-8\") as ref_file:\n",
    "    reference_summary = ref_file.read().strip()"
   ]
  },
  {
   "cell_type": "code",
   "execution_count": 46,
   "id": "69fdb56b",
   "metadata": {},
   "outputs": [],
   "source": [
    "scorer = rouge_scorer.RougeScorer(\n",
    "    ['rouge1', 'rouge2', 'rougeL'], \n",
    "    use_stemmer=True\n",
    ")"
   ]
  },
  {
   "cell_type": "code",
   "execution_count": 47,
   "id": "f119791b",
   "metadata": {},
   "outputs": [],
   "source": [
    "scores = scorer.score(reference_summary, generated_recipe)"
   ]
  },
  {
   "cell_type": "code",
   "execution_count": 48,
   "id": "4c39e6b3",
   "metadata": {},
   "outputs": [
    {
     "name": "stdout",
     "output_type": "stream",
     "text": [
      "ROUGE Scores:\n",
      "ROUGE1:\n",
      "  Precision: 0.3564\n",
      "  Recall:    0.5294\n",
      "  F1:        0.4260\n",
      "\n",
      "ROUGE2:\n",
      "  Precision: 0.1100\n",
      "  Recall:    0.1642\n",
      "  F1:        0.1317\n",
      "\n",
      "ROUGEL:\n",
      "  Precision: 0.2475\n",
      "  Recall:    0.3676\n",
      "  F1:        0.2959\n",
      "\n"
     ]
    }
   ],
   "source": [
    "print(\"ROUGE Scores:\")\n",
    "for metric, score in scores.items():\n",
    "    print(f\"{metric.upper()}:\")\n",
    "    print(f\"  Precision: {score.precision:.4f}\")\n",
    "    print(f\"  Recall:    {score.recall:.4f}\")\n",
    "    print(f\"  F1:        {score.fmeasure:.4f}\")\n",
    "    print()"
   ]
  }
 ],
 "metadata": {
  "kernelspec": {
   "display_name": "base",
   "language": "python",
   "name": "python3"
  },
  "language_info": {
   "codemirror_mode": {
    "name": "ipython",
    "version": 3
   },
   "file_extension": ".py",
   "mimetype": "text/x-python",
   "name": "python",
   "nbconvert_exporter": "python",
   "pygments_lexer": "ipython3",
   "version": "3.12.7"
  }
 },
 "nbformat": 4,
 "nbformat_minor": 5
}
